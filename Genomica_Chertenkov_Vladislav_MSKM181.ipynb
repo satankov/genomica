{
 "cells": [
  {
   "cell_type": "code",
   "execution_count": 1,
   "metadata": {},
   "outputs": [],
   "source": [
    "import numpy as np\n",
    "import pandas as pd\n",
    "import matplotlib.pyplot as plt\n",
    "import math\n",
    "\n",
    "%matplotlib notebook"
   ]
  },
  {
   "cell_type": "markdown",
   "metadata": {},
   "source": [
    "### allows to generate matrix|vector for every kind of M, K"
   ]
  },
  {
   "cell_type": "code",
   "execution_count": 2,
   "metadata": {},
   "outputs": [],
   "source": [
    "# generate transition (M×M), emission (M×K) matrices, beginning distribution (vector of length M)\n",
    "\n",
    "\n",
    "M = 8\n",
    "K = 6\n",
    "\n",
    "states = []\n",
    "states = [str('p')+str(a) for a in range(M)]\n",
    "\n",
    "trans = pd.DataFrame(columns=states, index=states)\n",
    "\n",
    "#random seed 1\n",
    "np.random.seed(1234)\n",
    "\n",
    "for i in range(M):\n",
    "    non_norm = np.random.random(M)\n",
    "    norm = non_norm/non_norm.sum()\n",
    "    trans.loc[states[i]] = norm\n",
    "\n",
    "###################\n",
    "    \n",
    "ems = []\n",
    "ems = [str('e')+str(a) for a in range(K)]\n",
    "\n",
    "emis = pd.DataFrame(columns=ems, index=states)\n",
    "\n",
    "#random seed 2\n",
    "np.random.seed(12345)\n",
    "\n",
    "for i in range(M):\n",
    "    non_norm = np.random.random(K)\n",
    "    norm = non_norm/non_norm.sum()\n",
    "    emis.loc[states[i]] = norm   \n",
    "\n",
    "###################\n",
    "\n",
    "begin = []\n",
    "\n",
    "#random seed 3\n",
    "np.random.seed(123456)\n",
    "\n",
    "non_norm = np.random.random(M)\n",
    "begin = np.array(non_norm/non_norm.sum())\n"
   ]
  },
  {
   "cell_type": "code",
   "execution_count": 3,
   "metadata": {},
   "outputs": [
    {
     "name": "stdout",
     "output_type": "stream",
     "text": [
      "            e0         e1         e2          e3        e4         e5\n",
      "p0    0.332274   0.113083  0.0657383   0.0731162  0.202923   0.212866\n",
      "p1    0.203949   0.138116   0.158358    0.138199  0.158106   0.203271\n",
      "p2  0.00304814  0.0386798   0.108543    0.238527   0.29427   0.316932\n",
      "p3    0.251116   0.188389   0.167248    0.186767  0.121725  0.0847558\n",
      "p4    0.115636   0.191925   0.261448    0.178033  0.208004  0.0449543\n",
      "p5  0.00968023   0.288565   0.325828  0.00889675  0.177294   0.189736\n",
      "p6    0.166107  0.0144718   0.249311    0.202845  0.227937   0.139328\n",
      "p7    0.350533  0.0415213    0.09473    0.111936  0.202529    0.19875\n"
     ]
    }
   ],
   "source": [
    "print(emis)"
   ]
  },
  {
   "cell_type": "markdown",
   "metadata": {},
   "source": [
    "# HMM for the unfair casino"
   ]
  },
  {
   "cell_type": "markdown",
   "metadata": {},
   "source": [
    "\n",
    "### 1. Simulate occasionally unfair casino: one dice has equal probabilities of each face and another dice has probability of P(6) = 0.5, other outcomes’ probabilities are 0.1. The probability to switch from the fair dice to the loaded dice is 0.05, the probability to switch from the loaded to the fair dice is 0.1.\n"
   ]
  },
  {
   "cell_type": "code",
   "execution_count": 4,
   "metadata": {},
   "outputs": [
    {
     "name": "stdout",
     "output_type": "stream",
     "text": [
      "Transition matrix \n",
      " \n",
      "         fair unfair\n",
      "fair    0.95   0.05\n",
      "unfair   0.1    0.9 \n",
      "\n",
      "Emissionn matrix \n",
      " \n",
      "                .         :        .:        ::       .::       :::\n",
      "fair    0.166667  0.166667  0.166667  0.166667  0.166667  0.166667\n",
      "unfair       0.1       0.1       0.1       0.1       0.1       0.5 \n",
      "\n",
      "Beginning distribution \n",
      " \n",
      " [0.5 0.5] \n",
      "\n"
     ]
    }
   ],
   "source": [
    "M = 2\n",
    "K = 6\n",
    "\n",
    "states = ['fair', 'unfair']\n",
    "trans = pd.DataFrame(columns=states, index=states)\n",
    "\n",
    "trans.loc[states[0]] = [0.95,0.05]\n",
    "trans.loc[states[1]] = [0.1,0.9]\n",
    "\n",
    "\n",
    "###################\n",
    "    \n",
    "ems = ['.',':','.:','::','.::',':::']\n",
    "\n",
    "emis = pd.DataFrame(columns=ems, index=states)\n",
    "\n",
    "emis.loc[states[0]] = [1/6,1/6,1/6,1/6,1/6,1/6]\n",
    "emis.loc[states[1]] = [0.1,0.1,0.1,0.1,0.1,0.5]\n",
    "\n",
    "begin = np.array([0.5, 0.5])\n",
    "\n",
    "print('Transition matrix', '\\n','\\n', trans,'\\n')\n",
    "print('Emissionn matrix', '\\n','\\n', emis,'\\n')\n",
    "print('Beginning distribution', '\\n','\\n', begin,'\\n')\n",
    "\n"
   ]
  },
  {
   "cell_type": "code",
   "execution_count": 5,
   "metadata": {},
   "outputs": [],
   "source": [
    "trans = np.array(trans)\n",
    "emis = np.array(emis)\n",
    "\n",
    "L = 300"
   ]
  },
  {
   "cell_type": "code",
   "execution_count": 6,
   "metadata": {},
   "outputs": [],
   "source": [
    "# perform 1 flip. Get next_state\n",
    "\n",
    "np.random.seed(9999)\n",
    "\n",
    "def next_state(weights):\n",
    "    choice = np.random.random() * sum(weights)\n",
    "    for i, w in enumerate(weights):\n",
    "        choice -= w\n",
    "        if choice < 0:\n",
    "            return i"
   ]
  },
  {
   "cell_type": "code",
   "execution_count": 7,
   "metadata": {},
   "outputs": [],
   "source": [
    "# function generate a sequence HMM\n",
    "\n",
    "def create_hidden_sequence(begin,trans,L):\n",
    "    out=[None]*L\n",
    "    out[0]=next_state(begin)\n",
    "    for i in range(1,L):\n",
    "        out[i]=next_state(trans[out[i-1]])\n",
    "    return out\n",
    "   \n",
    "def create_observation_sequence(hidden_sequence,emis):\n",
    "    L=len(hidden_sequence)\n",
    "    out=[None]*L\n",
    "    for i in range(L):\n",
    "        out[i]=next_state(emis[hidden_sequence[i]])\n",
    "    return out"
   ]
  },
  {
   "cell_type": "code",
   "execution_count": 8,
   "metadata": {},
   "outputs": [
    {
     "data": {
      "text/plain": [
       "array([3, 0, 5, 1, 3, 0, 2, 1, 5, 2, 0, 2, 2, 1, 5, 4, 3, 2, 0, 3, 4, 3,\n",
       "       5, 3, 0, 2, 4, 1, 3, 2, 3, 3, 2, 4, 2, 2, 2, 2, 1, 1, 4, 2, 0, 2,\n",
       "       4, 4, 3, 4, 3, 1, 4, 3, 0, 0, 1, 4, 2, 1, 1, 4, 2, 4, 0, 2, 2, 1,\n",
       "       5, 2, 0, 3, 4, 2, 3, 0, 2, 3, 1, 2, 2, 0, 5, 4, 4, 5, 3, 1, 3, 3,\n",
       "       4, 3, 0, 4, 4, 3, 5, 1, 4, 2, 3, 2, 5, 1, 0, 5, 1, 0, 4, 5, 5, 5,\n",
       "       4, 0, 1, 0, 3, 1, 1, 1, 0, 4, 1, 5, 0, 0, 4, 5, 4, 5, 4, 0, 2, 1,\n",
       "       1, 2, 2, 0, 3, 4, 2, 1, 5, 3, 2, 1, 0, 4, 0, 2, 0, 2, 1, 3, 3, 3,\n",
       "       5, 5, 2, 2, 4, 5, 2, 5, 2, 5, 5, 3, 5, 1, 4, 1, 5, 5, 0, 3, 5, 5,\n",
       "       4, 1, 1, 4, 3, 4, 3, 3, 1, 0, 0, 4, 4, 4, 5, 1, 2, 0, 1, 4, 0, 4,\n",
       "       3, 4, 2, 5, 5, 2, 2, 5, 4, 1, 0, 0, 5, 3, 1, 3, 4, 1, 0, 5, 1, 3,\n",
       "       5, 4, 5, 1, 5, 4, 5, 5, 1, 5, 4, 0, 2, 5, 5, 5, 3, 3, 5, 5, 3, 1,\n",
       "       2, 3, 5, 4, 2, 5, 5, 0, 5, 4, 4, 0, 4, 2, 1, 3, 1, 1, 5, 4, 1, 0,\n",
       "       2, 1, 3, 0, 0, 2, 3, 0, 5, 5, 3, 4, 0, 5, 0, 5, 2, 2, 3, 4, 2, 3,\n",
       "       1, 3, 2, 4, 0, 3, 1, 4, 0, 3, 1, 3, 2, 3])"
      ]
     },
     "execution_count": 8,
     "metadata": {},
     "output_type": "execute_result"
    }
   ],
   "source": [
    "# generate a sequence x of length L \n",
    "\n",
    "hidden=np.array(create_hidden_sequence(begin,trans,L))\n",
    "x=np.array(create_observation_sequence(hidden,emis))\n",
    "\n",
    "x"
   ]
  },
  {
   "cell_type": "code",
   "execution_count": 9,
   "metadata": {},
   "outputs": [
    {
     "data": {
      "text/plain": [
       "array([[8.33333333e-002, 5.00000000e-002],\n",
       "       [1.31944444e-002, 4.50000000e-003],\n",
       "       [2.08912037e-003, 2.02500000e-003],\n",
       "       [3.30777392e-004, 1.82250000e-004],\n",
       "       [5.23730871e-005, 1.64025000e-005],\n",
       "       [8.29240545e-006, 1.47622500e-006],\n",
       "       [1.31296420e-006, 1.32860250e-007],\n",
       "       [2.07885998e-007, 1.19574225e-008],\n",
       "       [3.29152830e-008, 5.38084013e-009],\n",
       "       [5.21158647e-009, 4.84275611e-010],\n",
       "       [8.25167858e-010, 4.35848050e-011],\n",
       "       [1.30651578e-010, 4.12583929e-012],\n",
       "       [2.06864998e-011, 6.53257888e-013],\n",
       "       [3.27536246e-012, 1.03432499e-013],\n",
       "       [5.18599057e-013, 8.18840616e-014],\n",
       "       [8.21115173e-014, 7.36956555e-015],\n",
       "       [1.30009902e-014, 6.63260899e-016],\n",
       "       [2.05849012e-015, 6.50049512e-017],\n",
       "       [3.25927603e-016, 1.02924506e-017],\n",
       "       [5.16052038e-017, 1.62963801e-018],\n",
       "       [8.17082393e-018, 2.58026019e-019],\n",
       "       [1.29371379e-018, 4.08541196e-020],\n",
       "       [2.04838017e-019, 3.23428447e-020],\n",
       "       [3.24326860e-020, 2.91085602e-021],\n",
       "       [5.13517528e-021, 2.61977042e-022],\n",
       "       [8.13069419e-022, 2.56758764e-023],\n",
       "       [1.28735991e-022, 4.06534709e-024],\n",
       "       [2.03831986e-023, 6.43679956e-025],\n",
       "       [3.22733978e-024, 1.01915993e-025],\n",
       "       [5.10995465e-025, 1.61366989e-026],\n",
       "       [8.09076154e-026, 2.55497733e-027],\n",
       "       [1.28103724e-026, 4.04538077e-028],\n",
       "       [2.02830897e-027, 6.40518622e-029],\n",
       "       [3.21148920e-028, 1.01415448e-029],\n",
       "       [5.08485790e-029, 1.60574460e-030],\n",
       "       [8.05102501e-030, 2.54242895e-031],\n",
       "       [1.27474563e-030, 4.02551250e-032],\n",
       "       [2.01834724e-031, 6.37372813e-033],\n",
       "       [3.19571647e-032, 1.00917362e-033],\n",
       "       [5.05988440e-033, 1.59785823e-034],\n",
       "       [8.01148364e-034, 2.52994220e-035],\n",
       "       [1.26848491e-034, 4.00574182e-036],\n",
       "       [2.00843444e-035, 6.34242455e-037],\n",
       "       [3.18002120e-036, 1.00421722e-037],\n",
       "       [5.03503356e-037, 1.59001060e-038],\n",
       "       [7.97213647e-038, 2.51751678e-039],\n",
       "       [1.26225494e-038, 3.98606824e-040],\n",
       "       [1.99857032e-039, 6.31127471e-041],\n",
       "       [3.16440301e-040, 9.99285162e-042],\n",
       "       [5.01030477e-041, 1.58220151e-042],\n",
       "       [7.93298255e-042, 2.50515239e-043],\n",
       "       [1.25605557e-042, 3.96649128e-044],\n",
       "       [1.98875465e-043, 6.28027786e-045],\n",
       "       [3.14886154e-044, 9.94377327e-046],\n",
       "       [4.98569743e-045, 1.57443077e-046],\n",
       "       [7.89402093e-046, 2.49284872e-047],\n",
       "       [1.24988665e-046, 3.94701047e-048],\n",
       "       [1.97898719e-047, 6.24943324e-049],\n",
       "       [3.13339639e-048, 9.89493596e-050],\n",
       "       [4.96121095e-049, 1.56669819e-050],\n",
       "       [7.85525067e-050, 2.48060547e-051],\n",
       "       [1.24374802e-050, 3.92762533e-052],\n",
       "       [1.96926770e-051, 6.21874011e-053],\n",
       "       [3.11800719e-052, 9.84633851e-054],\n",
       "       [4.93684473e-053, 1.55900360e-054],\n",
       "       [7.81667081e-054, 2.46842236e-055],\n",
       "       [1.23763955e-054, 1.95416770e-055],\n",
       "       [1.95959595e-055, 1.75875093e-056],\n",
       "       [3.10269358e-056, 1.58287584e-057],\n",
       "       [4.91259817e-057, 1.55134679e-058],\n",
       "       [7.77828044e-058, 2.45629909e-059],\n",
       "       [1.23156107e-058, 3.88914022e-060],\n",
       "       [1.94997169e-059, 6.15780535e-061],\n",
       "       [3.08745518e-060, 9.74985847e-062],\n",
       "       [4.88847070e-061, 1.54372759e-062],\n",
       "       [7.74007862e-062, 2.44423535e-063],\n",
       "       [1.22551245e-062, 3.87003931e-064],\n",
       "       [1.94039471e-063, 6.12756224e-065],\n",
       "       [3.07229162e-064, 9.70197354e-066],\n",
       "       [4.86446173e-065, 1.53614581e-066],\n",
       "       [7.70206441e-066, 1.21611543e-066],\n",
       "       [1.21949353e-066, 1.09450389e-067],\n",
       "       [1.93086476e-067, 9.85053501e-069],\n",
       "       [3.05720254e-068, 4.82716190e-069],\n",
       "       [4.84057068e-069, 4.34444571e-070],\n",
       "       [7.66423691e-070, 3.91000114e-071],\n",
       "       [1.21350418e-070, 3.83211846e-072],\n",
       "       [1.92138161e-071, 6.06752089e-073],\n",
       "       [3.04218756e-072, 9.60690807e-074],\n",
       "       [4.81679696e-073, 1.52109378e-074],\n",
       "       [7.62659519e-074, 2.40839848e-075],\n",
       "       [1.20754424e-074, 3.81329760e-076],\n",
       "       [1.91194505e-075, 6.03772120e-077],\n",
       "       [3.02724632e-076, 9.55972523e-078],\n",
       "       [4.79314001e-077, 7.56811580e-078],\n",
       "       [7.58913835e-078, 6.81130422e-079],\n",
       "       [1.20161357e-078, 6.13017380e-080],\n",
       "       [1.90255482e-079, 6.00806786e-081],\n",
       "       [3.01237847e-080, 9.51277411e-082],\n",
       "       [4.76959924e-081, 1.50618923e-082],\n",
       "       [7.55186546e-082, 1.19239981e-082],\n",
       "       [1.19571203e-082, 1.07315983e-083],\n",
       "       [1.89321072e-083, 9.65843846e-085],\n",
       "       [2.99758364e-084, 4.73302679e-085],\n",
       "       [4.74617409e-085, 4.25972411e-086],\n",
       "       [7.51477564e-086, 3.83375170e-087],\n",
       "       [1.18983948e-086, 3.75738782e-088],\n",
       "       [1.88391250e-087, 2.97459869e-088],\n",
       "       [2.98286147e-088, 1.33856941e-088],\n",
       "       [4.72286399e-089, 6.02356235e-089],\n",
       "       [7.47786798e-090, 5.42120612e-090],\n",
       "       [1.18399576e-090, 4.87908550e-091],\n",
       "       [1.87465996e-091, 4.39117695e-092],\n",
       "       [2.96821160e-092, 3.95205926e-093],\n",
       "       [4.69966837e-093, 3.55685333e-094],\n",
       "       [7.44114158e-094, 3.20116800e-095],\n",
       "       [1.17818075e-094, 3.72057079e-096],\n",
       "       [1.86545286e-095, 5.89090375e-097],\n",
       "       [2.95363369e-096, 9.32726428e-098],\n",
       "       [4.67658667e-097, 1.47681684e-098],\n",
       "       [7.40459557e-098, 2.33829334e-099],\n",
       "       [1.17239430e-098, 1.85114889e-099],\n",
       "       [1.85629097e-099, 1.66603400e-100],\n",
       "       [2.93912737e-100, 1.49943060e-101],\n",
       "       [4.65361834e-101, 1.46956369e-102],\n",
       "       [7.36822904e-102, 1.16340458e-102],\n",
       "       [1.16663626e-102, 1.04706413e-103],\n",
       "       [1.84717408e-103, 4.71178857e-104],\n",
       "       [2.92469230e-104, 4.24060971e-105],\n",
       "       [4.63076281e-105, 3.81654874e-106],\n",
       "       [7.33204111e-106, 3.43489387e-107],\n",
       "       [1.16090651e-106, 3.66602056e-108],\n",
       "       [1.83810197e-107, 5.80453255e-109],\n",
       "       [2.91032813e-108, 9.19050987e-110],\n",
       "       [4.60801953e-109, 1.45516406e-110],\n",
       "       [7.29603093e-110, 2.30400977e-111],\n",
       "       [1.15520490e-110, 3.64801546e-112],\n",
       "       [1.82907442e-111, 5.77602448e-113],\n",
       "       [2.89603450e-112, 9.14537210e-114],\n",
       "       [4.58538795e-113, 1.44801725e-114],\n",
       "       [7.26019759e-114, 1.14634699e-114],\n",
       "       [1.14953129e-114, 1.03171229e-115],\n",
       "       [1.82009120e-115, 9.28541061e-117],\n",
       "       [2.88181107e-116, 9.10045601e-118],\n",
       "       [4.56286753e-117, 1.44090554e-118],\n",
       "       [7.22454025e-118, 2.28143376e-119],\n",
       "       [1.14388554e-118, 3.61227013e-120],\n",
       "       [1.81115211e-119, 5.71942770e-121],\n",
       "       [2.86765750e-120, 9.05576053e-122],\n",
       "       [4.54045771e-121, 1.43382875e-122],\n",
       "       [7.18905804e-122, 2.27022885e-123],\n",
       "       [1.13826752e-122, 3.59452902e-124],\n",
       "       [1.80225691e-123, 5.69133761e-125],\n",
       "       [2.85357344e-124, 9.01128455e-126],\n",
       "       [4.51815795e-125, 7.13393361e-126],\n",
       "       [7.15375009e-126, 3.21027012e-126],\n",
       "       [1.13267710e-126, 2.88924311e-127],\n",
       "       [1.79340540e-127, 2.60031880e-128],\n",
       "       [2.83955856e-128, 2.34028692e-129],\n",
       "       [4.49596771e-129, 1.05312911e-129],\n",
       "       [7.11861555e-130, 9.47816202e-131],\n",
       "       [1.12711413e-130, 4.26517291e-131],\n",
       "       [1.78459737e-131, 3.83865562e-132],\n",
       "       [2.82561250e-132, 1.72739503e-132],\n",
       "       [4.47388646e-133, 7.77327763e-133],\n",
       "       [7.08365356e-134, 6.99594987e-134],\n",
       "       [1.12157848e-134, 3.14817744e-134],\n",
       "       [1.77583260e-135, 2.83335970e-135],\n",
       "       [2.81173494e-136, 2.55002373e-136],\n",
       "       [4.45191366e-137, 2.29502135e-137],\n",
       "       [7.04886329e-138, 1.03275961e-137],\n",
       "       [1.11607002e-138, 4.64741824e-138],\n",
       "       [1.76711087e-139, 4.18267642e-139],\n",
       "       [2.79792554e-140, 3.76440878e-140],\n",
       "       [4.43004877e-141, 1.69398395e-140],\n",
       "       [7.01424389e-142, 7.62292777e-141],\n",
       "       [1.27048796e-142, 6.86063499e-142],\n",
       "       [2.01160594e-143, 6.17457149e-143],\n",
       "       [3.18504274e-144, 5.55711434e-144],\n",
       "       [5.04298433e-145, 5.00140291e-145],\n",
       "       [7.98472520e-146, 4.50126262e-146],\n",
       "       [1.26424816e-146, 4.05113636e-147],\n",
       "       [2.00172625e-147, 3.64602272e-148],\n",
       "       [3.16939989e-148, 3.28142045e-149],\n",
       "       [5.01821649e-149, 2.95327840e-150],\n",
       "       [7.94550945e-150, 2.65795056e-151],\n",
       "       [1.25803900e-150, 3.97275472e-152],\n",
       "       [1.99189508e-151, 6.29019498e-153],\n",
       "       [3.15383387e-152, 9.95947539e-154],\n",
       "       [4.99357030e-153, 1.57691694e-154],\n",
       "       [7.90648630e-154, 1.24839257e-154],\n",
       "       [1.25186033e-154, 1.12355332e-155],\n",
       "       [1.98211219e-155, 1.01119799e-156],\n",
       "       [3.13834430e-156, 9.91056096e-158],\n",
       "       [4.96904515e-157, 1.56917215e-158],\n",
       "       [7.86765482e-158, 2.48452257e-159],\n",
       "       [1.24571201e-158, 3.93382741e-160],\n",
       "       [1.97237735e-159, 6.22856006e-161],\n",
       "       [3.12293081e-160, 9.86188677e-162],\n",
       "       [4.94464045e-161, 1.56146540e-162],\n",
       "       [7.82901404e-162, 2.47232022e-163],\n",
       "       [1.23959389e-162, 1.95725351e-163],\n",
       "       [1.96269033e-163, 8.80764080e-164],\n",
       "       [3.10759302e-164, 7.92687672e-165],\n",
       "       [4.92035561e-165, 7.13418905e-166],\n",
       "       [7.79056305e-166, 3.21038507e-166],\n",
       "       [1.23350582e-166, 2.88934656e-167],\n",
       "       [1.95305088e-167, 2.60041191e-168],\n",
       "       [3.09233055e-168, 2.34037072e-169],\n",
       "       [4.89619004e-169, 2.10633365e-170],\n",
       "       [7.75230090e-170, 1.22404751e-170],\n",
       "       [1.22744764e-170, 1.10164276e-171],\n",
       "       [1.94345877e-171, 9.91478483e-173],\n",
       "       [3.07714305e-172, 9.71729383e-174],\n",
       "       [4.87214316e-173, 1.53857152e-174],\n",
       "       [7.71422667e-174, 2.43607158e-175],\n",
       "       [1.22141922e-174, 3.85711333e-176],\n",
       "       [1.93391377e-175, 3.05354806e-176],\n",
       "       [3.06203013e-176, 2.74819325e-177],\n",
       "       [4.84821438e-177, 2.47337393e-178],\n",
       "       [7.67633943e-178, 1.21205359e-178],\n",
       "       [1.21542041e-178, 1.09084824e-179],\n",
       "       [1.92441565e-179, 4.90881706e-180],\n",
       "       [3.04699145e-180, 4.41793535e-181],\n",
       "       [4.82440312e-181, 1.98807091e-181],\n",
       "       [7.63863828e-182, 1.78926382e-182],\n",
       "       [1.20945106e-182, 8.05168718e-183],\n",
       "       [1.91496418e-183, 3.62325923e-183],\n",
       "       [3.03202662e-184, 3.26093331e-184],\n",
       "       [4.80070881e-185, 1.46741999e-184],\n",
       "       [7.60112228e-186, 1.32067799e-185],\n",
       "       [1.20351103e-186, 1.18861019e-186],\n",
       "       [1.90555913e-187, 1.06974917e-187],\n",
       "       [3.01713529e-188, 4.81387127e-188],\n",
       "       [4.77713087e-189, 2.16624207e-188],\n",
       "       [7.56379054e-190, 9.74808933e-189],\n",
       "       [1.62468155e-190, 8.77328039e-190],\n",
       "       [2.57241246e-191, 7.89595235e-191],\n",
       "       [4.07298640e-192, 3.55317856e-191],\n",
       "       [6.44889513e-193, 1.59893035e-191],\n",
       "       [2.66488392e-193, 1.43903732e-192],\n",
       "       [4.21939954e-194, 1.29513358e-193],\n",
       "       [6.68071594e-195, 1.16562023e-194],\n",
       "       [1.05778002e-195, 1.04905820e-195],\n",
       "       [1.67481837e-196, 4.72076192e-196],\n",
       "       [2.65179575e-197, 4.24868573e-197],\n",
       "       [4.19867661e-198, 3.82381715e-198],\n",
       "       [6.64790463e-199, 1.72071772e-198],\n",
       "       [1.05258490e-199, 7.74322973e-199],\n",
       "       [1.66659276e-200, 6.96890676e-200],\n",
       "       [2.63877187e-201, 3.13600804e-200],\n",
       "       [5.22668007e-202, 2.82240724e-201],\n",
       "       [8.27557678e-203, 2.54016651e-202],\n",
       "       [1.31029966e-203, 2.28614986e-203],\n",
       "       [2.07464112e-204, 2.05753488e-204],\n",
       "       [3.28484844e-205, 1.85178139e-205],\n",
       "       [5.20101004e-206, 1.66660325e-206],\n",
       "       [8.23493256e-207, 1.49994293e-207],\n",
       "       [1.30386432e-207, 1.34994863e-208],\n",
       "       [2.06445184e-208, 1.21495377e-209],\n",
       "       [3.26871542e-209, 5.46729196e-210],\n",
       "       [5.17546608e-210, 4.92056277e-211],\n",
       "       [8.19448796e-211, 4.42850649e-212],\n",
       "       [1.29746059e-211, 4.09724398e-213],\n",
       "       [2.05431261e-212, 6.48730297e-214],\n",
       "       [3.25266163e-213, 1.02715630e-214],\n",
       "       [5.15004758e-214, 1.62633081e-215],\n",
       "       [8.15424199e-215, 2.57502379e-216],\n",
       "       [1.29108832e-215, 4.07712100e-217],\n",
       "       [2.04422317e-216, 6.45544158e-218],\n",
       "       [3.23668668e-217, 1.02211158e-218],\n",
       "       [5.12475391e-218, 1.61834334e-219],\n",
       "       [8.11419369e-219, 1.28118848e-219],\n",
       "       [1.28474733e-219, 5.76534815e-220],\n",
       "       [2.03418328e-220, 5.18881333e-221],\n",
       "       [3.22079019e-221, 4.66993200e-222],\n",
       "       [5.09958447e-222, 4.20293880e-223],\n",
       "       [8.07434208e-223, 1.89132246e-223],\n",
       "       [1.27843750e-223, 1.70219021e-224],\n",
       "       [2.02419270e-224, 7.65985596e-225],\n",
       "       [3.20497178e-225, 6.89387037e-226],\n",
       "       [5.07453865e-226, 6.20448333e-227],\n",
       "       [8.03468619e-227, 5.58403500e-228],\n",
       "       [1.27215865e-227, 5.02563150e-229],\n",
       "       [2.01425119e-228, 6.36079324e-230],\n",
       "       [3.18923105e-229, 1.00712560e-230],\n",
       "       [5.04961584e-230, 1.59461553e-231],\n",
       "       [7.99522507e-231, 2.52480792e-232],\n",
       "       [1.26591064e-231, 3.99761254e-233],\n",
       "       [2.00435851e-232, 6.32955318e-234],\n",
       "       [3.17356764e-233, 1.00217925e-234],\n",
       "       [5.02481543e-234, 1.58678382e-235],\n",
       "       [7.95595776e-235, 2.51240771e-236],\n",
       "       [1.25969331e-235, 3.97797888e-237],\n",
       "       [1.99451441e-236, 6.29846656e-238],\n",
       "       [3.15798115e-237, 9.97257205e-239],\n",
       "       [5.00013682e-238, 1.57899057e-239],\n",
       "       [7.91688330e-239, 2.50006841e-240],\n",
       "       [1.25350652e-239, 3.95844165e-241],\n",
       "       [1.98471866e-240, 6.26753261e-242]])"
      ]
     },
     "execution_count": 9,
     "metadata": {},
     "output_type": "execute_result"
    }
   ],
   "source": [
    "# Viterbi algorithm\n",
    "# XP - a sequence of numbers of the most likely states that led to the observation data\n",
    "\n",
    "XP = np.zeros((L, M))\n",
    "\n",
    "for j in range(M):\n",
    "    XP[0, j] = emis[j, x[0]]*begin[j]\n",
    "    \n",
    "for i in range(1, L):\n",
    "    for j in range(M):\n",
    "        if j == 0:\n",
    "            XP[i, j] = emis[j, x[i]]*max(XP[i-1][1]*trans[1,0], XP[i-1][j]*trans[j, j])\n",
    "            \n",
    "        if j == 1:\n",
    "            XP[i, j] = emis[j, x[i]]*max(XP[i-1][0]*trans[0,1], XP[i-1][j]*trans[j,j])\n",
    "            \n",
    "XP"
   ]
  },
  {
   "cell_type": "markdown",
   "metadata": {},
   "source": [
    "\n",
    "### 2. Compare the simulated path and Viterbi most likely path."
   ]
  },
  {
   "cell_type": "code",
   "execution_count": 10,
   "metadata": {},
   "outputs": [
    {
     "data": {
      "text/plain": [
       "array([0, 0, 0, 0, 0, 0, 0, 0, 0, 0, 0, 0, 0, 0, 0, 0, 0, 0, 0, 0, 0, 0,\n",
       "       0, 0, 0, 0, 0, 0, 0, 0, 0, 0, 0, 0, 0, 0, 0, 0, 0, 0, 0, 0, 0, 0,\n",
       "       0, 0, 0, 0, 0, 0, 0, 0, 0, 0, 0, 0, 0, 0, 0, 0, 0, 0, 0, 0, 0, 0,\n",
       "       0, 0, 0, 0, 0, 0, 0, 0, 0, 0, 0, 0, 0, 0, 0, 0, 0, 0, 0, 0, 0, 0,\n",
       "       0, 0, 0, 0, 0, 0, 0, 0, 0, 0, 0, 0, 0, 0, 0, 0, 0, 0, 0, 0, 0, 1,\n",
       "       0, 0, 0, 0, 0, 0, 0, 0, 0, 0, 0, 0, 0, 0, 0, 0, 0, 0, 0, 0, 0, 0,\n",
       "       0, 0, 0, 0, 0, 0, 0, 0, 0, 0, 0, 0, 0, 0, 0, 0, 0, 0, 0, 0, 0, 0,\n",
       "       0, 0, 0, 0, 0, 0, 0, 0, 0, 0, 1, 0, 1, 1, 0, 0, 1, 1, 1, 1, 1, 1,\n",
       "       1, 1, 1, 0, 0, 0, 0, 0, 0, 0, 0, 0, 0, 0, 0, 0, 0, 0, 0, 0, 0, 0,\n",
       "       0, 0, 0, 0, 0, 0, 0, 0, 0, 0, 0, 0, 0, 0, 0, 0, 0, 0, 0, 0, 0, 0,\n",
       "       0, 0, 0, 0, 0, 0, 0, 1, 1, 1, 1, 0, 0, 1, 1, 1, 1, 1, 1, 1, 1, 1,\n",
       "       1, 0, 1, 1, 0, 1, 1, 1, 1, 1, 1, 1, 0, 0, 0, 0, 0, 0, 0, 0, 0, 0,\n",
       "       0, 0, 0, 0, 0, 0, 0, 0, 0, 0, 0, 0, 0, 0, 0, 0, 0, 0, 0, 0, 0, 0,\n",
       "       0, 0, 0, 0, 0, 0, 0, 0, 0, 0, 0, 0, 0, 0], dtype=int64)"
      ]
     },
     "execution_count": 10,
     "metadata": {},
     "output_type": "execute_result"
    }
   ],
   "source": [
    "viterbi = np.argmax(XP, axis = 1)\n",
    "viterbi"
   ]
  },
  {
   "cell_type": "code",
   "execution_count": 11,
   "metadata": {},
   "outputs": [
    {
     "data": {
      "text/plain": [
       "array([1, 1, 0, 0, 0, 0, 0, 0, 0, 0, 0, 0, 0, 0, 0, 0, 0, 0, 0, 0, 0, 0,\n",
       "       0, 0, 0, 0, 0, 0, 0, 0, 0, 0, 0, 0, 0, 0, 0, 0, 1, 1, 0, 0, 0, 0,\n",
       "       0, 0, 0, 0, 0, 0, 0, 0, 0, 0, 0, 0, 0, 0, 0, 1, 1, 0, 0, 0, 0, 0,\n",
       "       0, 0, 0, 0, 0, 0, 0, 0, 0, 0, 0, 0, 0, 0, 0, 0, 0, 0, 0, 0, 0, 0,\n",
       "       0, 0, 0, 0, 0, 0, 0, 0, 0, 0, 0, 0, 0, 0, 0, 0, 0, 0, 0, 0, 0, 0,\n",
       "       0, 0, 0, 0, 0, 0, 0, 0, 0, 0, 0, 0, 0, 0, 0, 0, 0, 0, 0, 0, 0, 0,\n",
       "       0, 0, 0, 0, 0, 0, 0, 0, 0, 0, 0, 0, 0, 0, 0, 0, 0, 0, 0, 0, 0, 0,\n",
       "       0, 0, 0, 0, 0, 0, 0, 1, 1, 1, 1, 1, 1, 1, 1, 1, 1, 1, 1, 1, 1, 1,\n",
       "       1, 0, 0, 0, 0, 0, 0, 0, 0, 0, 0, 0, 0, 0, 0, 0, 0, 0, 0, 0, 0, 0,\n",
       "       0, 0, 0, 1, 1, 1, 0, 0, 0, 0, 0, 0, 0, 0, 0, 0, 0, 0, 1, 1, 1, 1,\n",
       "       1, 1, 1, 1, 1, 1, 1, 1, 1, 1, 1, 1, 1, 1, 1, 1, 0, 0, 0, 0, 0, 0,\n",
       "       0, 0, 0, 0, 0, 0, 0, 0, 0, 0, 0, 0, 0, 0, 0, 0, 0, 0, 0, 0, 0, 0,\n",
       "       0, 0, 0, 0, 0, 0, 1, 1, 1, 0, 0, 0, 0, 0, 0, 0, 0, 0, 0, 0, 0, 0,\n",
       "       0, 0, 0, 0, 0, 0, 0, 0, 0, 0, 0, 0, 0, 0])"
      ]
     },
     "execution_count": 11,
     "metadata": {},
     "output_type": "execute_result"
    }
   ],
   "source": [
    "hidden"
   ]
  },
  {
   "cell_type": "markdown",
   "metadata": {},
   "source": [
    "\n",
    "### 3. Plot posterior probability P(fair). Compare with the regions of the simulated path where loaded dice was used. "
   ]
  },
  {
   "cell_type": "code",
   "execution_count": 12,
   "metadata": {},
   "outputs": [
    {
     "data": {
      "text/plain": [
       "<matplotlib.legend.Legend at 0xf3e66fd860>"
      ]
     },
     "execution_count": 12,
     "metadata": {},
     "output_type": "execute_result"
    },
    {
     "data": {
      "image/png": "[encoded data removed]",
      "text/plain": [
       "<Figure size 432x288 with 1 Axes>"
      ]
     },
     "metadata": {},
     "output_type": "display_data"
    }
   ],
   "source": [
    "w = np.linspace(0, L, L)\n",
    "fig, ax = plt.subplots(1,1)\n",
    "ax.set_title('Transitions between FAIR & UNFAIR dice')\n",
    "ax.set_ylabel('Dice')\n",
    "ax.set_xlabel('L')\n",
    "ax.plot(w, hidden, label = 'HMM', color='r')\n",
    "ax.plot(w, viterbi, '-.', label = 'Viterbi',color='b')\n",
    "ax.legend()"
   ]
  },
  {
   "cell_type": "markdown",
   "metadata": {},
   "source": [
    "### 4. Program the forward algorithm"
   ]
  },
  {
   "cell_type": "code",
   "execution_count": 13,
   "metadata": {},
   "outputs": [],
   "source": [
    "def forward_algorithm(trans,emis,begin):\n",
    "\n",
    "    frwd = np.zeros((L+1, M))\n",
    "    frwd[0] = begin\n",
    "\n",
    "    for j in range(M):\n",
    "        frwd[1, j] = emis[j, hidden[0]]*begin[j]\n",
    "    \n",
    "    \n",
    "    for i in range(2, L+1):\n",
    "        for j in range(M):\n",
    "                if j == 0:\n",
    "                    frwd[i, j] = frwd[i-1][j]*trans[j,j]*emis[j, x[i-1]]+frwd[i-1][1]*trans[1,j]*emis[j, x[i-1]]\n",
    "\n",
    "                if j == 1:\n",
    "                    frwd[i, j] = frwd[i-1][j]*trans[j,j]*emis[j, x[i-1]]+frwd[i-1][0]*trans[0,j]*emis[j, x[i-1]]\n",
    "\n",
    "    return frwd"
   ]
  },
  {
   "cell_type": "code",
   "execution_count": 14,
   "metadata": {},
   "outputs": [
    {
     "data": {
      "text/plain": [
       "1.9764758928499334e-234"
      ]
     },
     "execution_count": 14,
     "metadata": {},
     "output_type": "execute_result"
    }
   ],
   "source": [
    "res_fw = forward_algorithm(trans,emis,begin)[-1].sum()\n",
    "res_fw"
   ]
  },
  {
   "cell_type": "markdown",
   "metadata": {},
   "source": [
    "### 5. Program the backward algorithm"
   ]
  },
  {
   "cell_type": "code",
   "execution_count": 15,
   "metadata": {},
   "outputs": [],
   "source": [
    "def backward_algorithm(trans,emis,begin):\n",
    "\n",
    "    bkwd = np.zeros((L+1, M))\n",
    "    \n",
    "    for j in range(M):\n",
    "        bkwd[L, j] = 1\n",
    "    \n",
    "    for i in range(L-1,-1,-1):\n",
    "        for j in range(M):\n",
    "            if j == 0:\n",
    "                bkwd[i, j] = bkwd[i+1][j]*trans[j,j]*emis[j, x[i]] + bkwd[i+1][1]*trans[j, 1]*emis[j, x[i]]\n",
    "\n",
    "            if j == 1:\n",
    "                bkwd[i, j] = bkwd[i+1][j]*trans[j,j]*emis[j, x[i]] + bkwd[i+1][0]*trans[j, 0]*emis[j, x[i]]\n",
    "\n",
    "    return bkwd"
   ]
  },
  {
   "cell_type": "code",
   "execution_count": 16,
   "metadata": {},
   "outputs": [
    {
     "data": {
      "text/plain": [
       "1.9764758928499345e-234"
      ]
     },
     "execution_count": 16,
     "metadata": {},
     "output_type": "execute_result"
    }
   ],
   "source": [
    "res_back = sum(backward_algorithm(trans,emis,begin)[0]*begin)\n",
    "res_back"
   ]
  },
  {
   "cell_type": "markdown",
   "metadata": {},
   "source": [
    "### Probabilities from FORWARD- and BACKWARD- algorithms are equal. ( res_fw = res_back )"
   ]
  },
  {
   "cell_type": "code",
   "execution_count": null,
   "metadata": {},
   "outputs": [],
   "source": []
  },
  {
   "cell_type": "code",
   "execution_count": null,
   "metadata": {},
   "outputs": [],
   "source": []
  },
  {
   "cell_type": "code",
   "execution_count": null,
   "metadata": {},
   "outputs": [],
   "source": []
  },
  {
   "cell_type": "code",
   "execution_count": null,
   "metadata": {},
   "outputs": [],
   "source": []
  }
 ],
 "metadata": {
  "kernelspec": {
   "display_name": "Python 3",
   "language": "python",
   "name": "python3"
  },
  "language_info": {
   "codemirror_mode": {
    "name": "ipython",
    "version": 3
   },
   "file_extension": ".py",
   "mimetype": "text/x-python",
   "name": "python",
   "nbconvert_exporter": "python",
   "pygments_lexer": "ipython3",
   "version": "3.6.5"
  }
 },
 "nbformat": 4,
 "nbformat_minor": 2
}
